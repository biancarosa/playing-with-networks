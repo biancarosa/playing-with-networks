{
 "cells": [
  {
   "cell_type": "code",
   "execution_count": 3,
   "metadata": {
    "collapsed": true
   },
   "outputs": [],
   "source": [
    "from sklearn.neural_network import MLPClassifier\n",
    "from sklearn import datasets\n",
    "\n",
    "labels = list(['horizontal','vertical'])"
   ]
  },
  {
   "cell_type": "code",
   "execution_count": 4,
   "metadata": {
    "collapsed": true
   },
   "outputs": [],
   "source": [
    "image1 = [0, 0, 0, 0, 0,\n",
    "          1, 1, 1, 1, 1,\n",
    "          0, 0, 0, 0, 0]\n",
    "image2 = [1, 1, 1, 1, 1,\n",
    "          0, 0, 0, 0, 0,\n",
    "          0, 0, 0, 0, 0]\n",
    "image3 = [1, 0, 0, 0, 0,\n",
    "          1, 0, 0, 0, 0,\n",
    "          1, 0, 0, 0, 0]\n",
    "image4 = [0, 0, 0, 1, 0,\n",
    "          0, 0, 0, 1, 0,\n",
    "          0, 0, 0, 1, 0]\n",
    "target = [1, 1, 0, 0]"
   ]
  },
  {
   "cell_type": "code",
   "execution_count": 5,
   "metadata": {},
   "outputs": [
    {
     "data": {
      "text/plain": [
       "'horizontal'"
      ]
     },
     "execution_count": 5,
     "metadata": {},
     "output_type": "execute_result"
    }
   ],
   "source": [
    "clf = MLPClassifier(solver='lbfgs', alpha=1e-5, hidden_layer_sizes=(1,), random_state=1)\n",
    "clf.fit([image1, image2, image3, image4], target)\n",
    "image =  [0, 0, 0, 1, 0,\n",
    "          0, 0, 0, 1, 0,\n",
    "          0, 0, 0, 1, 0]\n",
    "labels[clf.predict([image])[0]]"
   ]
  },
  {
   "cell_type": "code",
   "execution_count": 6,
   "metadata": {},
   "outputs": [
    {
     "data": {
      "text/plain": [
       "'vertical'"
      ]
     },
     "execution_count": 6,
     "metadata": {},
     "output_type": "execute_result"
    }
   ],
   "source": [
    "clf = MLPClassifier(solver='lbfgs', alpha=1e-5, hidden_layer_sizes=(2,), random_state=1)\n",
    "clf.fit([image1, image2, image3, image4], target)\n",
    "image =  [0, 0, 0, 1, 0,\n",
    "          0, 0, 0, 1, 0,\n",
    "          0, 0, 0, 1, 0]\n",
    "labels[clf.predict([image])[0]]"
   ]
  },
  {
   "cell_type": "code",
   "execution_count": 10,
   "metadata": {},
   "outputs": [
    {
     "data": {
      "text/plain": [
       "'horizontal'"
      ]
     },
     "execution_count": 10,
     "metadata": {},
     "output_type": "execute_result"
    }
   ],
   "source": [
    "clf = MLPClassifier(solver='lbfgs', alpha=1e-5, hidden_layer_sizes=(3,), random_state=1)\n",
    "clf.fit([image1, image2, image3, image4], target)\n",
    "image =  [0, 0, 0, 1, 0,\n",
    "          0, 0, 0, 1, 0,\n",
    "          0, 0, 0, 1, 0]\n",
    "labels[clf.predict([image])[0]]"
   ]
  },
  {
   "cell_type": "code",
   "execution_count": 12,
   "metadata": {},
   "outputs": [
    {
     "data": {
      "text/plain": [
       "'vertical'"
      ]
     },
     "execution_count": 12,
     "metadata": {},
     "output_type": "execute_result"
    }
   ],
   "source": [
    "image =  [0, 0, 1, 0, 0,\n",
    "          0, 0, 1, 0, 0,\n",
    "          0, 0, 1, 0, 0]\n",
    "labels[clf.predict([image])[0]]"
   ]
  },
  {
   "cell_type": "code",
   "execution_count": 13,
   "metadata": {},
   "outputs": [
    {
     "data": {
      "text/plain": [
       "'horizontal'"
      ]
     },
     "execution_count": 13,
     "metadata": {},
     "output_type": "execute_result"
    }
   ],
   "source": [
    "image =  [0, 0, 0, 0, 0,\n",
    "          0, 0, 0, 0, 0,\n",
    "          1, 1, 1, 1, 1]\n",
    "labels[clf.predict([image])[0]]"
   ]
  },
  {
   "cell_type": "code",
   "execution_count": 14,
   "metadata": {},
   "outputs": [
    {
     "data": {
      "text/plain": [
       "'vertical'"
      ]
     },
     "execution_count": 14,
     "metadata": {},
     "output_type": "execute_result"
    }
   ],
   "source": [
    "clf = MLPClassifier(solver='sgd', alpha=1e-5, hidden_layer_sizes=(1,), random_state=1)\n",
    "clf.fit([image1, image2, image3, image4], target)\n",
    "image =  [0, 0, 0, 1, 0,\n",
    "          0, 0, 0, 1, 0,\n",
    "          0, 0, 0, 1, 0]\n",
    "labels[clf.predict([image])[0]]"
   ]
  },
  {
   "cell_type": "code",
   "execution_count": 15,
   "metadata": {},
   "outputs": [
    {
     "data": {
      "text/plain": [
       "'vertical'"
      ]
     },
     "execution_count": 15,
     "metadata": {},
     "output_type": "execute_result"
    }
   ],
   "source": [
    "image =  [0, 0, 1, 0, 0,\n",
    "          0, 0, 1, 0, 0,\n",
    "          0, 0, 1, 0, 0]\n",
    "labels[clf.predict([image])[0]]"
   ]
  }
 ],
 "metadata": {
  "kernelspec": {
   "display_name": "Python 3",
   "language": "python",
   "name": "python3"
  },
  "language_info": {
   "codemirror_mode": {
    "name": "ipython",
    "version": 3
   },
   "file_extension": ".py",
   "mimetype": "text/x-python",
   "name": "python",
   "nbconvert_exporter": "python",
   "pygments_lexer": "ipython3",
   "version": "3.5.2"
  }
 },
 "nbformat": 4,
 "nbformat_minor": 2
}
